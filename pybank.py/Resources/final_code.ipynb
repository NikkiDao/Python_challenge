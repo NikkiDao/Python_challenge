{
 "cells": [
  {
   "cell_type": "code",
   "execution_count": 1,
   "id": "85b58fa2",
   "metadata": {},
   "outputs": [
    {
     "name": "stdout",
     "output_type": "stream",
     "text": [
      "Financial Analysis\n",
      "\n",
      "----------------------------\n",
      "\n",
      "Total number of months: 86\n",
      "Total Revenue in period: $ 22564198\n",
      "Average monthly change in Revenue : $-8311.105882352942\n",
      "Greatest Increase in Profits: 16-Aug ($1862002)\n",
      "Greatest Decrease in Profits: 14-Feb ($-1825558)\n"
     ]
    },
    {
     "data": {
      "text/plain": [
       "47"
      ]
     },
     "execution_count": 1,
     "metadata": {},
     "output_type": "execute_result"
    }
   ],
   "source": [
    "import os\n",
    "import csv\n",
    "\n",
    "#set path for csv file and text file analysis result \n",
    "csvpath = os.path.join('budget_data.csv')\n",
    "\n",
    "with open(csvpath, newline='') as csvfile:\n",
    "    csvreader = csv.reader(csvfile, delimiter=',')\n",
    "\n",
    "    \n",
    "#skips header\n",
    "    csv_header = next(csvreader)\n",
    "    \n",
    "    \n",
    "#assigning variables\n",
    "    month = []\n",
    "    revenue = []\n",
    "    revenue_change = []\n",
    "    monthly_change = []\n",
    "                  \n",
    "\n",
    "#Months       \n",
    "    for row in csvreader:\n",
    "        month.append(row[0])\n",
    "        revenue.append(row[1])\n",
    "    #print(len(month))\n",
    "    \n",
    " #Revenue \n",
    "    revenue_int = map(int,revenue)\n",
    "    total_revenue = (sum(revenue_int))\n",
    "    #print(total_revenue)\n",
    "\n",
    " #Average Change\n",
    "    i = 0\n",
    "    for i in range(len(revenue) - 1):\n",
    "        profit_loss = int(revenue[i+1]) - int(revenue[i])\n",
    "        \n",
    " # append profit_loss\n",
    "        revenue_change.append(profit_loss)\n",
    "    Total = sum(revenue_change)\n",
    "    #print(revenue_change)\n",
    "    monthly_change = Total / len(revenue_change)\n",
    "    #print(monthly_change)\n",
    "    #print(Total)\n",
    "    \n",
    "#Greatest Increase\n",
    "    profit_increase = max(revenue_change)\n",
    "    #print(profit_increase)\n",
    "    k = revenue_change.index(profit_increase)\n",
    "    month_increase = month[k+1]\n",
    "    \n",
    "#Greatest Decrease\n",
    "    profit_decrease = min(revenue_change)\n",
    "    #print(profit_decrease)\n",
    "    j = revenue_change.index(profit_decrease)\n",
    "    month_decrease = month[j+1]\n",
    "\n",
    "\n",
    "#Print Statements\n",
    "\n",
    "print(f'Financial Analysis'+'\\n')\n",
    "print(f'----------------------------'+'\\n')\n",
    "\n",
    "\n",
    "print(\"Total number of months: \" + str(len(month)))\n",
    "\n",
    "print(\"Total Revenue in period: $ \" + str(total_revenue))\n",
    "      \n",
    "print(\"Average monthly change in Revenue : $\" + str(monthly_change))\n",
    "\n",
    "print(f\"Greatest Increase in Profits: {month_increase} (${profit_increase})\")\n",
    "\n",
    "print(f\"Greatest Decrease in Profits: {month_decrease} (${profit_decrease})\")\n",
    "\n",
    "#Output text file\n",
    "\n",
    "f = open('Financial Analysis.txt','w')\n",
    "f.write('Financial Analysis')\n",
    "f.write('------------------------------'+'\\n')\n",
    "        \n",
    "f.write(\"Total number of months: \" + str(len(month)\n",
    "                                        ))\n",
    "        \n",
    "f.write(\"Total Revenue in period: $ \" + str(total_revenue))\n",
    "        \n",
    "f.write('Average monthly change in Revenue : $' + str(round(monthly_change, 2)))\n",
    "\n",
    "f.write('Greatest Increase in Profits:' + str(month_increase) + ' ($' + str(profit_increase)+ ')')\n",
    "\n",
    "f.write('Greatest Decrease in Profits:' + str(month_decrease) + ' ($' + str(profit_decrease)+ ')')\n",
    "        "
   ]
  },
  {
   "cell_type": "code",
   "execution_count": null,
   "id": "1aece756",
   "metadata": {},
   "outputs": [],
   "source": []
  }
 ],
 "metadata": {
  "kernelspec": {
   "display_name": "Python 3 (ipykernel)",
   "language": "python",
   "name": "python3"
  },
  "language_info": {
   "codemirror_mode": {
    "name": "ipython",
    "version": 3
   },
   "file_extension": ".py",
   "mimetype": "text/x-python",
   "name": "python",
   "nbconvert_exporter": "python",
   "pygments_lexer": "ipython3",
   "version": "3.9.7"
  }
 },
 "nbformat": 4,
 "nbformat_minor": 5
}
