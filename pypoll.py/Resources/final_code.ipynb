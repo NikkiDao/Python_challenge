{
 "cells": [
  {
   "cell_type": "code",
   "execution_count": 11,
   "id": "06e2fe54",
   "metadata": {},
   "outputs": [
    {
     "name": "stdout",
     "output_type": "stream",
     "text": [
      "Election Results\n",
      "-------------------------\n",
      "Total Votes: 369711\n",
      "-------------------------\n",
      "Charles Casper Stockham: 23.049%   (85213)\n",
      "Diana DeGette: 73.812%   (272892)\n",
      "Raymon Anthony Doane: 3.139%   (11606)\n",
      "-------------------------\n",
      "Winner: Diana DeGette\n"
     ]
    },
    {
     "data": {
      "text/plain": [
       "1"
      ]
     },
     "execution_count": 11,
     "metadata": {},
     "output_type": "execute_result"
    }
   ],
   "source": [
    "import csv\n",
    "import os\n",
    "\n",
    "\n",
    "totalVotes = 0 \n",
    "votesPerCandidate = {}\n",
    "\n",
    "#creating filepath\n",
    "election_data_csv = os.path.join('election_data.csv')\n",
    "\n",
    "with open(election_data_csv, newline='') as csvfile:\n",
    "    csvreader = csv.reader(csvfile, delimiter=',')\n",
    "\n",
    "#skipping header row\n",
    "    csv_header = next(csvreader)\n",
    "    \n",
    "# Read each row of data after the header\n",
    "    for row in csvreader:\n",
    "        totalVotes += 1\n",
    "        if row[2] not in votesPerCandidate:\n",
    "            votesPerCandidate[row[2]] = 1\n",
    "        else:\n",
    "            votesPerCandidate[row[2]] += 1   \n",
    "        \n",
    "      \n",
    "\n",
    "print(\"Election Results\")\n",
    "print(\"-------------------------\")\n",
    "print(\"Total Votes: \" + str(totalVotes))\n",
    "print(\"-------------------------\")\n",
    "\n",
    "for candidate, votes in votesPerCandidate.items():\n",
    "    print(candidate + \": \" + \"{:.3%}\".format(votes/totalVotes) + \"   (\" +  str(votes) + \")\")\n",
    "    \n",
    "print(\"-------------------------\") \n",
    "\n",
    "winner = max(votesPerCandidate, key=votesPerCandidate.get)\n",
    "\n",
    "print(f\"Winner: {winner}\")\n",
    "\n",
    "# output a text file\n",
    "\n",
    "f = open(\"election_results.txt\", \"w\")\n",
    "f.write(\"Election Results\")\n",
    "f.write('\\n')\n",
    "f.write(\"-------------------------\")\n",
    "f.write('\\n')\n",
    "f.write(\"Total Votes: \" + str(totalVotes))\n",
    "f.write('\\n')\n",
    "f.write(\"-------------------------\")\n",
    "f.write('\\n')\n",
    "\n",
    "for candidate, votes in votesPerCandidate.items():\n",
    "    f.write(candidate + \": \" + \"{:.3%}\".format(votes/totalVotes) + \"   (\" +  str(votes) + \")\")\n",
    "    f.write('\\n')\n",
    "  \n",
    "f.write(\"-------------------------\") \n",
    "f.write('\\n')\n",
    "f.write(f\"Winner: {winner}\")\n",
    "f.write('\\n')\n",
    " "
   ]
  },
  {
   "cell_type": "code",
   "execution_count": null,
   "id": "4d5c69cc",
   "metadata": {},
   "outputs": [],
   "source": []
  }
 ],
 "metadata": {
  "kernelspec": {
   "display_name": "Python 3 (ipykernel)",
   "language": "python",
   "name": "python3"
  },
  "language_info": {
   "codemirror_mode": {
    "name": "ipython",
    "version": 3
   },
   "file_extension": ".py",
   "mimetype": "text/x-python",
   "name": "python",
   "nbconvert_exporter": "python",
   "pygments_lexer": "ipython3",
   "version": "3.9.7"
  }
 },
 "nbformat": 4,
 "nbformat_minor": 5
}
